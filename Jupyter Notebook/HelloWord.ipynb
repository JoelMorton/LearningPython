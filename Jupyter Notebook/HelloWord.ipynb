{
 "cells": [
  {
   "cell_type": "code",
   "execution_count": 1,
   "metadata": {},
   "outputs": [
    {
     "name": "stderr",
     "output_type": "stream",
     "text": [
      "C:\\Users\\joeli_vbclaki\\Anaconda3\\lib\\site-packages\\sklearn\\externals\\joblib\\__init__.py:15: DeprecationWarning: sklearn.externals.joblib is deprecated in 0.21 and will be removed in 0.23. Please import this functionality directly from joblib, which can be installed with: pip install joblib. If this warning is raised when loading pickled models, you may need to re-serialize those models with scikit-learn 0.21+.\n",
      "  warnings.warn(msg, category=DeprecationWarning)\n"
     ]
    },
    {
     "name": "stdout",
     "output_type": "stream",
     "text": [
      "music-recommender.dot\n",
      "^\n",
      "Expected {'graph' | 'digraph'} (at char 0), (line:1, col:1)\n"
     ]
    },
    {
     "ename": "AttributeError",
     "evalue": "'NoneType' object has no attribute 'create_png'",
     "output_type": "error",
     "traceback": [
      "\u001b[1;31m---------------------------------------------------------------------------\u001b[0m",
      "\u001b[1;31mAttributeError\u001b[0m                            Traceback (most recent call last)",
      "\u001b[1;32m<ipython-input-1-4663716cb37e>\u001b[0m in \u001b[0;36m<module>\u001b[1;34m\u001b[0m\n\u001b[0;32m     44\u001b[0m                      special_characters=True)\n\u001b[0;32m     45\u001b[0m \u001b[0mgraph\u001b[0m \u001b[1;33m=\u001b[0m \u001b[0mpydotplus\u001b[0m\u001b[1;33m.\u001b[0m\u001b[0mgraph_from_dot_data\u001b[0m\u001b[1;33m(\u001b[0m\u001b[1;33m(\u001b[0m\u001b[1;34m'music-recommender.dot'\u001b[0m\u001b[1;33m)\u001b[0m\u001b[1;33m)\u001b[0m\u001b[1;33m\u001b[0m\u001b[1;33m\u001b[0m\u001b[0m\n\u001b[1;32m---> 46\u001b[1;33m \u001b[0mImage\u001b[0m\u001b[1;33m(\u001b[0m\u001b[0mgraph\u001b[0m\u001b[1;33m.\u001b[0m\u001b[0mcreate_png\u001b[0m\u001b[1;33m(\u001b[0m\u001b[1;33m)\u001b[0m\u001b[1;33m)\u001b[0m\u001b[1;33m\u001b[0m\u001b[1;33m\u001b[0m\u001b[0m\n\u001b[0m\u001b[0;32m     47\u001b[0m \u001b[1;33m\u001b[0m\u001b[0m\n\u001b[0;32m     48\u001b[0m \u001b[1;33m\u001b[0m\u001b[0m\n",
      "\u001b[1;31mAttributeError\u001b[0m: 'NoneType' object has no attribute 'create_png'"
     ]
    }
   ],
   "source": [
    "import pandas as pd\n",
    "from sklearn.tree import DecisionTreeClassifier #machine learning algorithm\n",
    "from sklearn.model_selection import train_test_split #splits dataset\n",
    "from sklearn.metrics import accuracy_score #compares model to data\n",
    "from sklearn.externals import joblib #stores models\n",
    "from sklearn import tree #graphical formatting\n",
    "\n",
    "import numpy as np\n",
    "from pandas import DataFrame, Series\n",
    "from IPython.display import Image\n",
    "# from StringIO import StringIO\n",
    "import pydotplus\n",
    "from sklearn import preprocessing\n",
    "%matplotlib inline\n",
    "\n",
    "\n",
    "musicData = pd.read_csv('Music.csv')\n",
    "X = musicData.drop(columns=['genre'])\n",
    "Y = musicData['genre']\n",
    "# X_train, X_test, Y_train, Y_test = train_test_split(X, Y, test_size = .2)\n",
    "\n",
    "model = DecisionTreeClassifier()\n",
    "model.fit(X, Y)\n",
    "\n",
    "# joblib.dump(model, 'music-recommender.joblib')\n",
    "\n",
    "# model = joblib.load('music-recommender.joblib')\n",
    "\n",
    "# tree.export_graphviz(model,\n",
    "#                      out_file='music-recommender.dot',\n",
    "#                      feature_names=['age', 'gender'],\n",
    "#                      class_names=sorted(Y.unique()),\n",
    "#                      label='all',\n",
    "#                      rounded=True,\n",
    "#                      filled=True)\n",
    "\n",
    "tree.export_graphviz(model,\n",
    "                     out_file='music-recommender.dot',\n",
    "                     feature_names=['age', 'gender'],\n",
    "                     class_names=sorted(Y.unique()),\n",
    "                     label='all',\n",
    "                     rounded=True,\n",
    "                     filled=True,\n",
    "                     special_characters=True)\n",
    "graph = pydotplus.graph_from_dot_data(('music-recommender.dot'))\n",
    "Image(graph.create_png())\n",
    "\n",
    "\n",
    "# predictions = model.predict([[21, 1]])\n",
    "# predictions\n",
    "\n",
    "# predictions = model.predict(X_test)\n",
    "\n",
    "# score = accuracy_score(Y_test, predictions)\n",
    "# score"
   ]
  },
  {
   "cell_type": "code",
   "execution_count": null,
   "metadata": {},
   "outputs": [],
   "source": []
  }
 ],
 "metadata": {
  "kernelspec": {
   "display_name": "Python 3",
   "language": "python",
   "name": "python3"
  },
  "language_info": {
   "codemirror_mode": {
    "name": "ipython",
    "version": 3
   },
   "file_extension": ".py",
   "mimetype": "text/x-python",
   "name": "python",
   "nbconvert_exporter": "python",
   "pygments_lexer": "ipython3",
   "version": "3.7.3"
  }
 },
 "nbformat": 4,
 "nbformat_minor": 2
}
